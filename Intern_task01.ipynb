{
 "cells": [
  {
   "cell_type": "code",
   "execution_count": 1,
   "id": "c82b53a6-2fd2-4bd3-aece-43965fa38979",
   "metadata": {},
   "outputs": [],
   "source": [
    "#first we need to import some important libraries\n",
    "import pandas as pd\n",
    "import datetime as dt"
   ]
  },
  {
   "cell_type": "code",
   "execution_count": 3,
   "id": "344d67f6-dbd8-4045-8519-cbdac3876822",
   "metadata": {},
   "outputs": [
    {
     "data": {
      "text/html": [
       "<div>\n",
       "<style scoped>\n",
       "    .dataframe tbody tr th:only-of-type {\n",
       "        vertical-align: middle;\n",
       "    }\n",
       "\n",
       "    .dataframe tbody tr th {\n",
       "        vertical-align: top;\n",
       "    }\n",
       "\n",
       "    .dataframe thead th {\n",
       "        text-align: right;\n",
       "    }\n",
       "</style>\n",
       "<table border=\"1\" class=\"dataframe\">\n",
       "  <thead>\n",
       "    <tr style=\"text-align: right;\">\n",
       "      <th></th>\n",
       "      <th>show_id</th>\n",
       "      <th>type</th>\n",
       "      <th>title</th>\n",
       "      <th>director</th>\n",
       "      <th>cast</th>\n",
       "      <th>country</th>\n",
       "      <th>date_added</th>\n",
       "      <th>release_year</th>\n",
       "      <th>rating</th>\n",
       "      <th>duration</th>\n",
       "      <th>listed_in</th>\n",
       "      <th>description</th>\n",
       "    </tr>\n",
       "  </thead>\n",
       "  <tbody>\n",
       "    <tr>\n",
       "      <th>0</th>\n",
       "      <td>s1</td>\n",
       "      <td>Movie</td>\n",
       "      <td>Dick Johnson Is Dead</td>\n",
       "      <td>Kirsten Johnson</td>\n",
       "      <td>NaN</td>\n",
       "      <td>United States</td>\n",
       "      <td>September 25, 2021</td>\n",
       "      <td>2020</td>\n",
       "      <td>PG-13</td>\n",
       "      <td>90 min</td>\n",
       "      <td>Documentaries</td>\n",
       "      <td>As her father nears the end of his life, filmm...</td>\n",
       "    </tr>\n",
       "    <tr>\n",
       "      <th>1</th>\n",
       "      <td>s2</td>\n",
       "      <td>TV Show</td>\n",
       "      <td>Blood &amp; Water</td>\n",
       "      <td>NaN</td>\n",
       "      <td>Ama Qamata, Khosi Ngema, Gail Mabalane, Thaban...</td>\n",
       "      <td>South Africa</td>\n",
       "      <td>September 24, 2021</td>\n",
       "      <td>2021</td>\n",
       "      <td>TV-MA</td>\n",
       "      <td>2 Seasons</td>\n",
       "      <td>International TV Shows, TV Dramas, TV Mysteries</td>\n",
       "      <td>After crossing paths at a party, a Cape Town t...</td>\n",
       "    </tr>\n",
       "    <tr>\n",
       "      <th>2</th>\n",
       "      <td>s3</td>\n",
       "      <td>TV Show</td>\n",
       "      <td>Ganglands</td>\n",
       "      <td>Julien Leclercq</td>\n",
       "      <td>Sami Bouajila, Tracy Gotoas, Samuel Jouy, Nabi...</td>\n",
       "      <td>NaN</td>\n",
       "      <td>September 24, 2021</td>\n",
       "      <td>2021</td>\n",
       "      <td>TV-MA</td>\n",
       "      <td>1 Season</td>\n",
       "      <td>Crime TV Shows, International TV Shows, TV Act...</td>\n",
       "      <td>To protect his family from a powerful drug lor...</td>\n",
       "    </tr>\n",
       "    <tr>\n",
       "      <th>3</th>\n",
       "      <td>s4</td>\n",
       "      <td>TV Show</td>\n",
       "      <td>Jailbirds New Orleans</td>\n",
       "      <td>NaN</td>\n",
       "      <td>NaN</td>\n",
       "      <td>NaN</td>\n",
       "      <td>September 24, 2021</td>\n",
       "      <td>2021</td>\n",
       "      <td>TV-MA</td>\n",
       "      <td>1 Season</td>\n",
       "      <td>Docuseries, Reality TV</td>\n",
       "      <td>Feuds, flirtations and toilet talk go down amo...</td>\n",
       "    </tr>\n",
       "    <tr>\n",
       "      <th>4</th>\n",
       "      <td>s5</td>\n",
       "      <td>TV Show</td>\n",
       "      <td>Kota Factory</td>\n",
       "      <td>NaN</td>\n",
       "      <td>Mayur More, Jitendra Kumar, Ranjan Raj, Alam K...</td>\n",
       "      <td>India</td>\n",
       "      <td>September 24, 2021</td>\n",
       "      <td>2021</td>\n",
       "      <td>TV-MA</td>\n",
       "      <td>2 Seasons</td>\n",
       "      <td>International TV Shows, Romantic TV Shows, TV ...</td>\n",
       "      <td>In a city of coaching centers known to train I...</td>\n",
       "    </tr>\n",
       "  </tbody>\n",
       "</table>\n",
       "</div>"
      ],
      "text/plain": [
       "  show_id     type                  title         director  \\\n",
       "0      s1    Movie   Dick Johnson Is Dead  Kirsten Johnson   \n",
       "1      s2  TV Show          Blood & Water              NaN   \n",
       "2      s3  TV Show              Ganglands  Julien Leclercq   \n",
       "3      s4  TV Show  Jailbirds New Orleans              NaN   \n",
       "4      s5  TV Show           Kota Factory              NaN   \n",
       "\n",
       "                                                cast        country  \\\n",
       "0                                                NaN  United States   \n",
       "1  Ama Qamata, Khosi Ngema, Gail Mabalane, Thaban...   South Africa   \n",
       "2  Sami Bouajila, Tracy Gotoas, Samuel Jouy, Nabi...            NaN   \n",
       "3                                                NaN            NaN   \n",
       "4  Mayur More, Jitendra Kumar, Ranjan Raj, Alam K...          India   \n",
       "\n",
       "           date_added  release_year rating   duration  \\\n",
       "0  September 25, 2021          2020  PG-13     90 min   \n",
       "1  September 24, 2021          2021  TV-MA  2 Seasons   \n",
       "2  September 24, 2021          2021  TV-MA   1 Season   \n",
       "3  September 24, 2021          2021  TV-MA   1 Season   \n",
       "4  September 24, 2021          2021  TV-MA  2 Seasons   \n",
       "\n",
       "                                           listed_in  \\\n",
       "0                                      Documentaries   \n",
       "1    International TV Shows, TV Dramas, TV Mysteries   \n",
       "2  Crime TV Shows, International TV Shows, TV Act...   \n",
       "3                             Docuseries, Reality TV   \n",
       "4  International TV Shows, Romantic TV Shows, TV ...   \n",
       "\n",
       "                                         description  \n",
       "0  As her father nears the end of his life, filmm...  \n",
       "1  After crossing paths at a party, a Cape Town t...  \n",
       "2  To protect his family from a powerful drug lor...  \n",
       "3  Feuds, flirtations and toilet talk go down amo...  \n",
       "4  In a city of coaching centers known to train I...  "
      ]
     },
     "execution_count": 3,
     "metadata": {},
     "output_type": "execute_result"
    }
   ],
   "source": [
    "#Imported the dataset\n",
    "Netflix=pd.read_csv(r\"C:\\Users\\Sapana pal\\Downloads\\archive (1)\\netflix_titles.csv\")\n",
    "Netflix.head()"
   ]
  },
  {
   "cell_type": "code",
   "execution_count": 5,
   "id": "7a45f78a-1f9e-4777-a351-c3498a9a590e",
   "metadata": {},
   "outputs": [
    {
     "name": "stdout",
     "output_type": "stream",
     "text": [
      "0\n",
      "Empty DataFrame\n",
      "Columns: [show_id, type, title, director, cast, country, date_added, release_year, rating, duration, listed_in, description]\n",
      "Index: []\n"
     ]
    }
   ],
   "source": [
    "#we need to find data discrepancies and clean them\n",
    "\n",
    "#find duplicates----duplicates not found\n",
    "duplicates=Netflix.duplicated()\n",
    "print(duplicates.sum())\n",
    "print(Netflix[Netflix.duplicated()])"
   ]
  },
  {
   "cell_type": "code",
   "execution_count": 7,
   "id": "0906e135-7f57-41bf-b87d-87632cd98997",
   "metadata": {},
   "outputs": [
    {
     "name": "stdout",
     "output_type": "stream",
     "text": [
      "     show_id type title director cast country date_added  release_year rating  \\\n",
      "0        NaN  NaN   NaN      NaN  NaN     NaN        NaN           NaN    NaN   \n",
      "1        NaN  NaN   NaN      NaN  NaN     NaN        NaN           NaN    NaN   \n",
      "2        NaN  NaN   NaN      NaN  NaN     NaN        NaN           NaN    NaN   \n",
      "3        NaN  NaN   NaN      NaN  NaN     NaN        NaN           NaN    NaN   \n",
      "4        NaN  NaN   NaN      NaN  NaN     NaN        NaN           NaN    NaN   \n",
      "...      ...  ...   ...      ...  ...     ...        ...           ...    ...   \n",
      "8802     NaN  NaN   NaN      NaN  NaN     NaN        NaN           NaN    NaN   \n",
      "8803     NaN  NaN   NaN      NaN  NaN     NaN        NaN           NaN    NaN   \n",
      "8804     NaN  NaN   NaN      NaN  NaN     NaN        NaN           NaN    NaN   \n",
      "8805     NaN  NaN   NaN      NaN  NaN     NaN        NaN           NaN    NaN   \n",
      "8806     NaN  NaN   NaN      NaN  NaN     NaN        NaN           NaN    NaN   \n",
      "\n",
      "     duration listed_in description  \n",
      "0         NaN       NaN         NaN  \n",
      "1         NaN       NaN         NaN  \n",
      "2         NaN       NaN         NaN  \n",
      "3         NaN       NaN         NaN  \n",
      "4         NaN       NaN         NaN  \n",
      "...       ...       ...         ...  \n",
      "8802      NaN       NaN         NaN  \n",
      "8803      NaN       NaN         NaN  \n",
      "8804      NaN       NaN         NaN  \n",
      "8805      NaN       NaN         NaN  \n",
      "8806      NaN       NaN         NaN  \n",
      "\n",
      "[8807 rows x 12 columns]\n"
     ]
    }
   ],
   "source": [
    "#find nulls\n",
    "Netflix.isnull().any()\n",
    "\n",
    "print(Netflix[Netflix.isnull()])"
   ]
  },
  {
   "cell_type": "code",
   "execution_count": 9,
   "id": "fc00b6c9-6f7d-44e6-86ee-c8c4bba4d273",
   "metadata": {},
   "outputs": [
    {
     "data": {
      "text/plain": [
       "show_id            0\n",
       "type               0\n",
       "title              0\n",
       "director        2634\n",
       "cast             825\n",
       "country          831\n",
       "date_added        10\n",
       "release_year       0\n",
       "rating             4\n",
       "duration           3\n",
       "listed_in          0\n",
       "description        0\n",
       "dtype: int64"
      ]
     },
     "execution_count": 9,
     "metadata": {},
     "output_type": "execute_result"
    }
   ],
   "source": [
    "Netflix.isnull().sum()"
   ]
  },
  {
   "cell_type": "code",
   "execution_count": 11,
   "id": "c86a4567-2083-422a-a9c5-3df21dac7626",
   "metadata": {},
   "outputs": [
    {
     "data": {
      "text/plain": [
       "show_id         object\n",
       "type            object\n",
       "title           object\n",
       "director        object\n",
       "cast            object\n",
       "country         object\n",
       "date_added      object\n",
       "release_year     int64\n",
       "rating          object\n",
       "duration        object\n",
       "listed_in       object\n",
       "description     object\n",
       "dtype: object"
      ]
     },
     "execution_count": 11,
     "metadata": {},
     "output_type": "execute_result"
    }
   ],
   "source": [
    "Netflix.dtypes"
   ]
  },
  {
   "cell_type": "code",
   "execution_count": 13,
   "id": "87dbae8f-8fbc-446d-9dfd-8ff1aaac73b6",
   "metadata": {},
   "outputs": [],
   "source": [
    "#Here i handled missing values by replacing them with 'Unknown'\n",
    "#we can fill country with most frequent country using(mode)\n",
    "#also we can fill rating with most frequent rating with mode\n",
    "Netflix['director'] = Netflix['director'].fillna('Unknown')\n",
    "Netflix['cast'] = Netflix['cast'].fillna('Unknown')\n",
    "Netflix['country'] = Netflix['country'].fillna('Unknown')\n",
    "Netflix['date_added'] = Netflix['date_added'].fillna('Not Available')\n",
    "Netflix['rating'] = Netflix['rating'].fillna(Netflix['rating'].mode()[0])\n",
    "Netflix['duration'] = Netflix['duration'].fillna('Unknown')\n"
   ]
  },
  {
   "cell_type": "code",
   "execution_count": 15,
   "id": "48422805-9365-4818-9baa-2756d169f2c9",
   "metadata": {},
   "outputs": [
    {
     "data": {
      "text/plain": [
       "show_id         0\n",
       "type            0\n",
       "title           0\n",
       "director        0\n",
       "cast            0\n",
       "country         0\n",
       "date_added      0\n",
       "release_year    0\n",
       "rating          0\n",
       "duration        0\n",
       "listed_in       0\n",
       "description     0\n",
       "dtype: int64"
      ]
     },
     "execution_count": 15,
     "metadata": {},
     "output_type": "execute_result"
    }
   ],
   "source": [
    "#make sure all missing values gone\n",
    "Netflix.isnull().sum()"
   ]
  },
  {
   "cell_type": "code",
   "execution_count": 19,
   "id": "2d50e450-8144-4a2d-9bca-2c8e4a9c8901",
   "metadata": {},
   "outputs": [
    {
     "data": {
      "text/html": [
       "<div>\n",
       "<style scoped>\n",
       "    .dataframe tbody tr th:only-of-type {\n",
       "        vertical-align: middle;\n",
       "    }\n",
       "\n",
       "    .dataframe tbody tr th {\n",
       "        vertical-align: top;\n",
       "    }\n",
       "\n",
       "    .dataframe thead th {\n",
       "        text-align: right;\n",
       "    }\n",
       "</style>\n",
       "<table border=\"1\" class=\"dataframe\">\n",
       "  <thead>\n",
       "    <tr style=\"text-align: right;\">\n",
       "      <th></th>\n",
       "      <th>show_id</th>\n",
       "      <th>type</th>\n",
       "      <th>title</th>\n",
       "      <th>director</th>\n",
       "      <th>cast</th>\n",
       "      <th>country</th>\n",
       "      <th>date_added</th>\n",
       "      <th>release_year</th>\n",
       "      <th>rating</th>\n",
       "      <th>duration</th>\n",
       "      <th>listed_in</th>\n",
       "      <th>description</th>\n",
       "    </tr>\n",
       "  </thead>\n",
       "  <tbody>\n",
       "    <tr>\n",
       "      <th>0</th>\n",
       "      <td>s1</td>\n",
       "      <td>Movie</td>\n",
       "      <td>Dick Johnson Is Dead</td>\n",
       "      <td>Kirsten Johnson</td>\n",
       "      <td>Unknown</td>\n",
       "      <td>United States</td>\n",
       "      <td>September 25, 2021</td>\n",
       "      <td>2020</td>\n",
       "      <td>PG-13</td>\n",
       "      <td>90 min</td>\n",
       "      <td>Documentaries</td>\n",
       "      <td>As her father nears the end of his life, filmm...</td>\n",
       "    </tr>\n",
       "  </tbody>\n",
       "</table>\n",
       "</div>"
      ],
      "text/plain": [
       "  show_id   type                 title         director     cast  \\\n",
       "0      s1  Movie  Dick Johnson Is Dead  Kirsten Johnson  Unknown   \n",
       "\n",
       "         country          date_added  release_year rating duration  \\\n",
       "0  United States  September 25, 2021          2020  PG-13   90 min   \n",
       "\n",
       "       listed_in                                        description  \n",
       "0  Documentaries  As her father nears the end of his life, filmm...  "
      ]
     },
     "execution_count": 19,
     "metadata": {},
     "output_type": "execute_result"
    }
   ],
   "source": [
    "#Standardize text values\n",
    "Netflix.head(1)\n"
   ]
  },
  {
   "cell_type": "code",
   "execution_count": 21,
   "id": "0ab08854-3656-49eb-bde4-603ab0c866ed",
   "metadata": {},
   "outputs": [],
   "source": [
    "#standardize text values\n",
    "Netflix['type']=Netflix['type'].str.strip().str.capitalize()\n",
    "Netflix['title']=Netflix['title'].str.strip().str.capitalize()\n",
    "Netflix['director']=Netflix['director'].str.strip().str.capitalize()\n",
    "Netflix['cast']=Netflix['cast'].str.strip().str.capitalize()\n",
    "Netflix['country']=Netflix['country'].str.strip().str.capitalize()\n",
    "Netflix['listed_in']=Netflix['listed_in'].str.strip().str.capitalize()\n",
    "Netflix['description']=Netflix['description'].str.strip().str.capitalize()"
   ]
  },
  {
   "cell_type": "code",
   "execution_count": 31,
   "id": "1a37fc72-0e8f-4551-83c1-dbb7ad32d295",
   "metadata": {},
   "outputs": [],
   "source": [
    "#check date format\n",
    "Netflix['date_added'].unique()"
   ]
  },
  {
   "cell_type": "code",
   "execution_count": 25,
   "id": "b8082d19-0d49-44ba-a81a-ff9c922b4f82",
   "metadata": {},
   "outputs": [],
   "source": [
    "#converts date formats to a consistent type and datetime format also\n",
    "Netflix['date_added']=pd.to_datetime(Netflix['date_added'],errors='coerce')\n",
    "\n"
   ]
  },
  {
   "cell_type": "code",
   "execution_count": 27,
   "id": "9fcb7205-f08b-4dc9-b0a2-30df241964d2",
   "metadata": {},
   "outputs": [
    {
     "data": {
      "text/plain": [
       "0      2021-09-25\n",
       "1      2021-09-24\n",
       "2      2021-09-24\n",
       "3      2021-09-24\n",
       "4      2021-09-24\n",
       "          ...    \n",
       "8802   2019-11-20\n",
       "8803   2019-07-01\n",
       "8804   2019-11-01\n",
       "8805   2020-01-11\n",
       "8806   2019-03-02\n",
       "Name: date_added, Length: 8807, dtype: datetime64[ns]"
      ]
     },
     "execution_count": 27,
     "metadata": {},
     "output_type": "execute_result"
    }
   ],
   "source": [
    "#check\n",
    "Netflix['date_added']"
   ]
  },
  {
   "cell_type": "code",
   "execution_count": 33,
   "id": "9fb76d4c-c35c-40eb-bae4-4627a9fef03c",
   "metadata": {},
   "outputs": [
    {
     "data": {
      "text/plain": [
       "Index(['show_id', 'type', 'title', 'director', 'cast', 'country', 'date_added',\n",
       "       'release_year', 'rating', 'duration', 'listed_in', 'description'],\n",
       "      dtype='object')"
      ]
     },
     "execution_count": 33,
     "metadata": {},
     "output_type": "execute_result"
    }
   ],
   "source": [
    "#Rename column headers to be clean and uniform(lowercase,no spaces)\n",
    "\n",
    "#--here i have not found any unclean/inconsistent column\n",
    "Netflix.columns"
   ]
  },
  {
   "cell_type": "code",
   "execution_count": 35,
   "id": "125437d4-cd14-4b09-ab60-39fd473ffa1d",
   "metadata": {},
   "outputs": [
    {
     "data": {
      "text/plain": [
       "show_id                 object\n",
       "type                    object\n",
       "title                   object\n",
       "director                object\n",
       "cast                    object\n",
       "country                 object\n",
       "date_added      datetime64[ns]\n",
       "release_year             int64\n",
       "rating                  object\n",
       "duration                object\n",
       "listed_in               object\n",
       "description             object\n",
       "dtype: object"
      ]
     },
     "execution_count": 35,
     "metadata": {},
     "output_type": "execute_result"
    }
   ],
   "source": [
    "#check dtypes and fix them with correct dtypes(date as datetime,country as object)\n",
    "#duration should be numeric format\n",
    "Netflix.dtypes"
   ]
  },
  {
   "cell_type": "code",
   "execution_count": 37,
   "id": "c175fb73-0238-41d3-ac81-31a0df76d770",
   "metadata": {},
   "outputs": [
    {
     "data": {
      "text/plain": [
       "0          90 min\n",
       "1       2 Seasons\n",
       "2        1 Season\n",
       "3        1 Season\n",
       "4       2 Seasons\n",
       "          ...    \n",
       "8802      158 min\n",
       "8803    2 Seasons\n",
       "8804       88 min\n",
       "8805       88 min\n",
       "8806      111 min\n",
       "Name: duration, Length: 8807, dtype: object"
      ]
     },
     "execution_count": 37,
     "metadata": {},
     "output_type": "execute_result"
    }
   ],
   "source": [
    "Netflix['duration']  #here i have found mixed formats['90 min', '1 Season', '2 Seasons', unknown, '45 min']"
   ]
  },
  {
   "cell_type": "code",
   "execution_count": 39,
   "id": "5d89c86b-a026-4c33-a1cd-55be60f788fa",
   "metadata": {},
   "outputs": [],
   "source": [
    "#so we can extract minuts and convert them into float\n",
    "# For Movies: extract minutes\n",
    "Netflix['duration_minutes'] = Netflix[Netflix['type'] == 'Movie']['duration'].str.extract(r'(\\d+)').astype('float')\n",
    "\n",
    "# For TV Shows: extract seasons\n",
    "Netflix['duration_seasons'] = Netflix[Netflix['type'] == 'TV Show']['duration'].str.extract(r'(\\d+)').astype('float')\n",
    " "
   ]
  },
  {
   "cell_type": "code",
   "execution_count": 41,
   "id": "2e2e8f57-1fb4-470f-bb2a-60675bf36adb",
   "metadata": {},
   "outputs": [
    {
     "data": {
      "text/plain": [
       "show_id                     object\n",
       "type                        object\n",
       "title                       object\n",
       "director                    object\n",
       "cast                        object\n",
       "country                     object\n",
       "date_added          datetime64[ns]\n",
       "release_year                 int64\n",
       "rating                      object\n",
       "duration                    object\n",
       "listed_in                   object\n",
       "description                 object\n",
       "duration_minutes           float64\n",
       "duration_seasons           float64\n",
       "dtype: object"
      ]
     },
     "execution_count": 41,
     "metadata": {},
     "output_type": "execute_result"
    }
   ],
   "source": [
    "Netflix.dtypes #yeah it converted"
   ]
  },
  {
   "cell_type": "markdown",
   "id": "cd3f661f-ce5f-410c-bc52-c28b181109d6",
   "metadata": {},
   "source": [
    "**Done"
   ]
  },
  {
   "cell_type": "code",
   "execution_count": null,
   "id": "30444a95-9859-4d78-b6a1-3c6932e650ba",
   "metadata": {},
   "outputs": [],
   "source": []
  }
 ],
 "metadata": {
  "kernelspec": {
   "display_name": "Python [conda env:base] *",
   "language": "python",
   "name": "conda-base-py"
  },
  "language_info": {
   "codemirror_mode": {
    "name": "ipython",
    "version": 3
   },
   "file_extension": ".py",
   "mimetype": "text/x-python",
   "name": "python",
   "nbconvert_exporter": "python",
   "pygments_lexer": "ipython3",
   "version": "3.12.7"
  }
 },
 "nbformat": 4,
 "nbformat_minor": 5
}
